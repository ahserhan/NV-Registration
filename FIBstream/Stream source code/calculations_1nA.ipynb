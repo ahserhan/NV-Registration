{
 "cells": [
  {
   "cell_type": "markdown",
   "metadata": {},
   "source": [
    "## This is to test a part of the stream.py code involving truncating the points"
   ]
  },
  {
   "cell_type": "code",
   "execution_count": 1,
   "metadata": {},
   "outputs": [
    {
     "name": "stdout",
     "output_type": "stream",
     "text": [
      "Original Array:\n",
      "[   1.5      2.7      3.2      4.8      5.1   1212.999]\n",
      "Data Type of Original Array: float64\n",
      "\n",
      "Array after Conversion:\n",
      "[   1    2    3    4    5 1212]\n",
      "Data Type after Conversion: int64\n",
      "\n",
      "mask is:\n",
      "[False False False False  True  True]\n",
      "x[mask]=\n",
      "[   5 1212]\n",
      "len(mask)=\n",
      "6\n",
      "len(x[mask])=\n",
      "2\n"
     ]
    }
   ],
   "source": [
    "import numpy as np\n",
    "\n",
    "# Create an array with floating-point numbers\n",
    "x = np.array([1.5, 2.7, 3.2, 4.8, 5.1, 1212.999])\n",
    "\n",
    "# Display the original array and its data type\n",
    "print(\"Original Array:\")\n",
    "print(x)\n",
    "print(\"Data Type of Original Array:\", x.dtype)\n",
    "\n",
    "# Convert the array to int64\n",
    "x = x.astype(np.int64)\n",
    "\n",
    "# Display the array after conversion and its data type\n",
    "print(\"\\nArray after Conversion:\")\n",
    "print(x)\n",
    "print(\"Data Type after Conversion:\", x.dtype)\n",
    "\n",
    "trunc = 5\n",
    "mask = x >= trunc\n",
    "print(\"\\nmask is:\")\n",
    "print(mask)\n",
    "print(\"x[mask]=\")\n",
    "print(x[mask])\n",
    "print(\"len(mask)=\")\n",
    "print(len(mask))\n",
    "print(\"len(x[mask])=\")\n",
    "print(len(x[mask]))"
   ]
  },
  {
   "cell_type": "markdown",
   "metadata": {},
   "source": [
    "## This is to caluclate the depth to time assuming the nominal supttering rate"
   ]
  },
  {
   "cell_type": "code",
   "execution_count": 2,
   "metadata": {},
   "outputs": [],
   "source": [
    "import math\n",
    "beamCurrent = 1 # in nanoAmps\n",
    "beamDiameter = 44e-3 # in micron\n",
    "beamSize = np.pi*(beamDiameter/2)**2 # in micron square\n",
    "sputterRate = 7.756e-8 # [micrometer**3 / (microsecond * nA)]"
   ]
  },
  {
   "cell_type": "code",
   "execution_count": 3,
   "metadata": {},
   "outputs": [
    {
     "name": "stdout",
     "output_type": "stream",
     "text": [
      "196045.75094603657\n"
     ]
    }
   ],
   "source": [
    "time_to_depth = sputterRate*beamCurrent/beamSize # in micron / micro s\n",
    "depth_to_time = 1/time_to_depth*10 # in 100*ns / micron\n",
    "print(depth_to_time)"
   ]
  },
  {
   "cell_type": "code",
   "execution_count": 4,
   "metadata": {},
   "outputs": [
    {
     "name": "stdout",
     "output_type": "stream",
     "text": [
      "0.019604575094603657\n"
     ]
    }
   ],
   "source": [
    "print(depth_to_time*1e-7) # in s / micron"
   ]
  },
  {
   "cell_type": "markdown",
   "metadata": {},
   "source": [
    "## This is to caluclate the depth to time by milling the square."
   ]
  },
  {
   "cell_type": "code",
   "execution_count": 5,
   "metadata": {},
   "outputs": [],
   "source": [
    "millingTime = 1*60+9 #in second\n",
    "millingVolume = 2*2*1.122/np.sin(52/180*np.pi) # in micron cube\n",
    "beamSize = np.pi*(beamDiameter/2)**2 # in micron square"
   ]
  },
  {
   "cell_type": "code",
   "execution_count": 6,
   "metadata": {},
   "outputs": [
    {
     "name": "stdout",
     "output_type": "stream",
     "text": [
      "0.08254135868472079\n"
     ]
    }
   ],
   "source": [
    "charge = beamCurrent*millingTime\n",
    "sputterRate = millingVolume/charge # in micron cube per nanocolumb\n",
    "print(sputterRate)"
   ]
  },
  {
   "cell_type": "code",
   "execution_count": 7,
   "metadata": {},
   "outputs": [
    {
     "name": "stdout",
     "output_type": "stream",
     "text": [
      "0.0184214419118706\n"
     ]
    }
   ],
   "source": [
    "effectiveDepth = millingVolume / beamSize\n",
    "depth_to_time = millingTime / effectiveDepth # in second per micron\n",
    "print(depth_to_time)"
   ]
  },
  {
   "cell_type": "code",
   "execution_count": 8,
   "metadata": {},
   "outputs": [
    {
     "name": "stdout",
     "output_type": "stream",
     "text": [
      "184214.419118706\n"
     ]
    }
   ],
   "source": [
    "effectiveDepth = millingVolume / beamSize\n",
    "depth_to_time = millingTime / effectiveDepth # in 100ns per micron\n",
    "print(depth_to_time*1e7)"
   ]
  }
 ],
 "metadata": {
  "kernelspec": {
   "display_name": "base",
   "language": "python",
   "name": "python3"
  },
  "language_info": {
   "codemirror_mode": {
    "name": "ipython",
    "version": 3
   },
   "file_extension": ".py",
   "mimetype": "text/x-python",
   "name": "python",
   "nbconvert_exporter": "python",
   "pygments_lexer": "ipython3",
   "version": "3.9.7"
  }
 },
 "nbformat": 4,
 "nbformat_minor": 2
}
