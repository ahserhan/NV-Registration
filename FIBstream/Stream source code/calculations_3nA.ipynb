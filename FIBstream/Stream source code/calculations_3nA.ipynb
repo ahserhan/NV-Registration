{
 "cells": [
  {
   "cell_type": "markdown",
   "metadata": {},
   "source": [
    "## This is to test a part of the stream.py code involving truncating the points"
   ]
  },
  {
   "cell_type": "code",
   "execution_count": 57,
   "metadata": {},
   "outputs": [
    {
     "name": "stdout",
     "output_type": "stream",
     "text": [
      "Original Array:\n",
      "[   1.5      2.7      3.2      4.8      5.1   1212.999]\n",
      "Data Type of Original Array: float64\n",
      "\n",
      "Array after Conversion:\n",
      "[   1    2    3    4    5 1212]\n",
      "Data Type after Conversion: int64\n",
      "\n",
      "mask is:\n",
      "[False False False False  True  True]\n",
      "x[mask]=\n",
      "[   5 1212]\n",
      "len(mask)=\n",
      "6\n",
      "len(x[mask])=\n",
      "2\n"
     ]
    }
   ],
   "source": [
    "import numpy as np\n",
    "import math\n",
    "\n",
    "# Create an array with floating-point numbers\n",
    "x = np.array([1.5, 2.7, 3.2, 4.8, 5.1, 1212.999])\n",
    "\n",
    "# Display the original array and its data type\n",
    "print(\"Original Array:\")\n",
    "print(x)\n",
    "print(\"Data Type of Original Array:\", x.dtype)\n",
    "\n",
    "# Convert the array to int64\n",
    "x = x.astype(np.int64)\n",
    "\n",
    "# Display the array after conversion and its data type\n",
    "print(\"\\nArray after Conversion:\")\n",
    "print(x)\n",
    "print(\"Data Type after Conversion:\", x.dtype)\n",
    "\n",
    "trunc = 5\n",
    "mask = x >= trunc\n",
    "print(\"\\nmask is:\")\n",
    "print(mask)\n",
    "print(\"x[mask]=\")\n",
    "print(x[mask])\n",
    "print(\"len(mask)=\")\n",
    "print(len(mask))\n",
    "print(\"len(x[mask])=\")\n",
    "print(len(x[mask]))"
   ]
  },
  {
   "cell_type": "markdown",
   "metadata": {},
   "source": [
    "## This is to caluclate the depth to time assuming the nominal supttering rate"
   ]
  },
  {
   "cell_type": "code",
   "execution_count": 58,
   "metadata": {},
   "outputs": [],
   "source": [
    "import math\n",
    "beamCurrent = 3 # in nanoAmps\n",
    "beamDiameter = 66e-3 # in micron\n",
    "beamSize = np.pi*(beamDiameter/2)**2 # in micron square\n",
    "sputterRate = 7.756e-8 # [micrometer**3 / (microsecond * nA)]"
   ]
  },
  {
   "cell_type": "code",
   "execution_count": 59,
   "metadata": {},
   "outputs": [
    {
     "name": "stdout",
     "output_type": "stream",
     "text": [
      "147034.3132095275\n"
     ]
    }
   ],
   "source": [
    "time_to_depth = sputterRate*beamCurrent/beamSize # in micron / micro s\n",
    "depth_to_time = 1/time_to_depth*10 # in 100*ns / micron\n",
    "print(depth_to_time)"
   ]
  },
  {
   "cell_type": "code",
   "execution_count": 60,
   "metadata": {},
   "outputs": [
    {
     "name": "stdout",
     "output_type": "stream",
     "text": [
      "0.014703431320952748\n"
     ]
    }
   ],
   "source": [
    "print(depth_to_time*1e-7) # in s / micron"
   ]
  },
  {
   "cell_type": "markdown",
   "metadata": {},
   "source": [
    "## This is to caluclate the depth to time by milling the square."
   ]
  },
  {
   "cell_type": "code",
   "execution_count": 61,
   "metadata": {},
   "outputs": [],
   "source": [
    "beamCurrent = 3 # in nanoAmps\n",
    "beamDiameter = 66e-3 # in micron\n",
    "millingTime = 19*60+43 #in second\n",
    "millingVolume = 10.46*10.58*2.4/np.sin(52/180*np.pi) # in micron cube\n",
    "beamSize = np.pi*(beamDiameter/2)**2 # in micron square"
   ]
  },
  {
   "cell_type": "code",
   "execution_count": 62,
   "metadata": {},
   "outputs": [
    {
     "name": "stdout",
     "output_type": "stream",
     "text": [
      "0.09497087743282778\n"
     ]
    }
   ],
   "source": [
    "charge = beamCurrent*millingTime\n",
    "sputterRate = millingVolume/charge # in micron cube per nanocolumb\n",
    "print(sputterRate)"
   ]
  },
  {
   "cell_type": "code",
   "execution_count": 63,
   "metadata": {},
   "outputs": [
    {
     "name": "stdout",
     "output_type": "stream",
     "text": [
      "0.01200787192957852\n"
     ]
    }
   ],
   "source": [
    "effectiveDepth = millingVolume / beamSize\n",
    "depth_to_time = millingTime / effectiveDepth # in second per micron\n",
    "print(depth_to_time)"
   ]
  },
  {
   "cell_type": "code",
   "execution_count": 64,
   "metadata": {},
   "outputs": [
    {
     "name": "stdout",
     "output_type": "stream",
     "text": [
      "120078.7192957852\n"
     ]
    }
   ],
   "source": [
    "effectiveDepth = millingVolume / beamSize\n",
    "depth_to_time = millingTime / effectiveDepth # in 100ns per micron (which is the unit of the stream file)\n",
    "print(depth_to_time*1e7)"
   ]
  },
  {
   "cell_type": "markdown",
   "metadata": {},
   "source": [
    "### SIL volumn calculation"
   ]
  },
  {
   "cell_type": "code",
   "execution_count": 65,
   "metadata": {},
   "outputs": [],
   "source": [
    "r = 5\n",
    "R = 11\n",
    "hemisphere = 2/3*math.pi*r**3\n",
    "truncatedCone = 1/3*math.pi*r*(r**2+R**2+r*R)\n",
    "sil = truncatedCone-hemisphere"
   ]
  },
  {
   "cell_type": "markdown",
   "metadata": {},
   "source": [
    "### calulate milling time from square milling"
   ]
  },
  {
   "cell_type": "code",
   "execution_count": 66,
   "metadata": {},
   "outputs": [],
   "source": [
    "time = sil/millingVolume*millingTime"
   ]
  },
  {
   "cell_type": "code",
   "execution_count": 67,
   "metadata": {},
   "outputs": [
    {
     "name": "stdout",
     "output_type": "stream",
     "text": [
      "46.25009339267311\n"
     ]
    }
   ],
   "source": [
    "print(time/60)   "
   ]
  },
  {
   "cell_type": "code",
   "execution_count": null,
   "metadata": {},
   "outputs": [],
   "source": []
  }
 ],
 "metadata": {
  "kernelspec": {
   "display_name": "base",
   "language": "python",
   "name": "python3"
  },
  "language_info": {
   "codemirror_mode": {
    "name": "ipython",
    "version": 3
   },
   "file_extension": ".py",
   "mimetype": "text/x-python",
   "name": "python",
   "nbconvert_exporter": "python",
   "pygments_lexer": "ipython3",
   "version": "3.9.7"
  }
 },
 "nbformat": 4,
 "nbformat_minor": 2
}
