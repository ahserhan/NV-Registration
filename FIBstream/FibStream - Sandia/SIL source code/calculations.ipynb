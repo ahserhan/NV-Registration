{
 "cells": [
  {
   "cell_type": "markdown",
   "metadata": {},
   "source": [
    "## This is to test a part of the stream.py code involving truncating the points"
   ]
  },
  {
   "cell_type": "code",
   "execution_count": 5,
   "metadata": {},
   "outputs": [
    {
     "name": "stdout",
     "output_type": "stream",
     "text": [
      "Original Array:\n",
      "[   1.5      2.7      3.2      4.8      5.1   1212.999]\n",
      "Data Type of Original Array: float64\n",
      "\n",
      "Array after Conversion:\n",
      "[   1    2    3    4    5 1212]\n",
      "Data Type after Conversion: int64\n",
      "\n",
      "mask is:\n",
      "[False False False False  True  True]\n",
      "x[mask]=\n",
      "[   5 1212]\n",
      "len(mask)=\n",
      "6\n",
      "len(x[mask])=\n",
      "2\n"
     ]
    }
   ],
   "source": [
    "import numpy as np\n",
    "\n",
    "# Create an array with floating-point numbers\n",
    "x = np.array([1.5, 2.7, 3.2, 4.8, 5.1, 1212.999])\n",
    "\n",
    "# Display the original array and its data type\n",
    "print(\"Original Array:\")\n",
    "print(x)\n",
    "print(\"Data Type of Original Array:\", x.dtype)\n",
    "\n",
    "# Convert the array to int64\n",
    "x = x.astype(np.int64)\n",
    "\n",
    "# Display the array after conversion and its data type\n",
    "print(\"\\nArray after Conversion:\")\n",
    "print(x)\n",
    "print(\"Data Type after Conversion:\", x.dtype)\n",
    "\n",
    "trunc = 5\n",
    "mask = x >= trunc\n",
    "print(\"\\nmask is:\")\n",
    "print(mask)\n",
    "print(\"x[mask]=\")\n",
    "print(x[mask])\n",
    "print(\"len(mask)=\")\n",
    "print(len(mask))\n",
    "print(\"len(x[mask])=\")\n",
    "print(len(x[mask]))"
   ]
  },
  {
   "cell_type": "markdown",
   "metadata": {},
   "source": [
    "## This is to caluclate the milling rate and convert depth to time"
   ]
  },
  {
   "cell_type": "code",
   "execution_count": 15,
   "metadata": {},
   "outputs": [],
   "source": [
    "import math\n",
    "beamCurrent = 2.7 # in nanoAmps\n",
    "beamDiameter = 60e-3 # in micron\n",
    "millingTime = 16*60+45 #in second\n",
    "millingVolume = 10*10*1.89/np.sin(52/180*np.pi) # in micron cube\n",
    "beamSize = np.pi*(beamDiameter/2)**2 # in micron square"
   ]
  },
  {
   "cell_type": "code",
   "execution_count": 16,
   "metadata": {},
   "outputs": [
    {
     "name": "stdout",
     "output_type": "stream",
     "text": [
      "0.08838932841301544\n"
     ]
    }
   ],
   "source": [
    "charge = beamCurrent*millingTime\n",
    "sputterRate = millingVolume/charge # in micron cube per nanocolumb\n",
    "print(sputterRate)"
   ]
  },
  {
   "cell_type": "code",
   "execution_count": 17,
   "metadata": {},
   "outputs": [
    {
     "name": "stdout",
     "output_type": "stream",
     "text": [
      "0.011847556373585892\n"
     ]
    }
   ],
   "source": [
    "effectiveDepth = millingVolume / beamSize\n",
    "depth_to_time = millingTime / effectiveDepth # in second per micron\n",
    "print(depth_to_time)"
   ]
  }
 ],
 "metadata": {
  "kernelspec": {
   "display_name": "base",
   "language": "python",
   "name": "python3"
  },
  "language_info": {
   "codemirror_mode": {
    "name": "ipython",
    "version": 3
   },
   "file_extension": ".py",
   "mimetype": "text/x-python",
   "name": "python",
   "nbconvert_exporter": "python",
   "pygments_lexer": "ipython3",
   "version": "3.9.7"
  }
 },
 "nbformat": 4,
 "nbformat_minor": 2
}
