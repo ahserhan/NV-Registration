{
 "cells": [
  {
   "cell_type": "code",
   "execution_count": 1,
   "metadata": {},
   "outputs": [],
   "source": [
    "# # Read the lines from the original ptf file\n",
    "# with open(\"MyPatternFile2.ptf\", \"r\") as f:\n",
    "#     lines = f.readlines()\n",
    "\n",
    "# # Modify the defocus lines\n",
    "# modified_lines = []\n",
    "# for line in lines:\n",
    "#     if \"<Defocus\" in line:\n",
    "#         modified_lines.append(\"    <Defocus xmlns:dt=\\\"urn:schemas-microsoft-com:datatypes\\\" dt:dt=\\\"r8\\\">1E-4</Defocus>\\n\")\n",
    "#     else:\n",
    "#         modified_lines.append(line)\n",
    "\n",
    "# # Write the modified lines to a new ptf file\n",
    "# with open(\"ModifiedPatternFile.ptf\", \"w\") as f:\n",
    "#     f.writelines(modified_lines)\n"
   ]
  },
  {
   "cell_type": "code",
   "execution_count": 2,
   "metadata": {},
   "outputs": [],
   "source": [
    "newlines = []\n",
    "numStream = 200\n",
    "r = 5e-6\n",
    "for i in range(numStream):\n",
    "    defocus = r / numStream * i\n",
    "    blur = 0.01042131 * defocus\n",
    "    fname = \"G:\\\\ALL USER Data\\\\Han\\\\20240428\\\\practicesil\\\\5um 200slice 58pt4min\\\\sil_\"+f\"{i:02}\"+\".str\"\n",
    "    newlines.append(\"  <PatternStreamFile>\\n\")\n",
    "    newlines.append(\"    <Defocus xmlns:dt=\\\"urn:schemas-microsoft-com:datatypes\\\" dt:dt=\\\"r8\\\">\"+str(defocus)+\"</Defocus>\\n\")\n",
    "    newlines.append(\"    <Blur xmlns:dt=\\\"urn:schemas-microsoft-com:datatypes\\\" dt:dt=\\\"r8\\\">\"+str(blur)+\"</Blur>\\n\")\n",
    "    newlines.append(\"    <FileName xmlns:dt=\\\"urn:schemas-microsoft-com:datatypes\\\" dt:dt=\\\"string\\\">\"+str(fname)+\"</FileName>\\n\")\n",
    "    newlines.append(\"  </PatternStreamFile>\\n\")\n",
    "\n",
    "newlines.append('</Content>')\n",
    "with open(\"Pattern.txt\", \"w\") as f:\n",
    "    f.writelines(newlines)"
   ]
  },
  {
   "cell_type": "code",
   "execution_count": 3,
   "metadata": {},
   "outputs": [
    {
     "name": "stdout",
     "output_type": "stream",
     "text": [
      "Files have been combined into 'combined.txt'\n"
     ]
    }
   ],
   "source": [
    "# Define the file names\n",
    "file1 = 'head.txt'\n",
    "file2 = 'Pattern.txt'\n",
    "output_file = 'finalPtf.ptf'\n",
    "\n",
    "# Open both files and a new output file\n",
    "with open(file1, 'r') as f1, open(file2, 'r') as f2, open(output_file, 'w') as out:\n",
    "    # Read contents from the first file\n",
    "    data1 = f1.read()\n",
    "    # Read contents from the second file\n",
    "    data2 = f2.read()\n",
    "    \n",
    "    # Write both data sets to the output file\n",
    "    out.write(data1 + \"\\n\" + data2)  # Adds a newline in between, if needed\n",
    "\n",
    "print(\"Files have been combined into 'combined.txt'\")\n"
   ]
  }
 ],
 "metadata": {
  "kernelspec": {
   "display_name": "Python 3",
   "language": "python",
   "name": "python3"
  },
  "language_info": {
   "codemirror_mode": {
    "name": "ipython",
    "version": 3
   },
   "file_extension": ".py",
   "mimetype": "text/x-python",
   "name": "python",
   "nbconvert_exporter": "python",
   "pygments_lexer": "ipython3",
   "version": "3.9.7"
  }
 },
 "nbformat": 4,
 "nbformat_minor": 2
}
