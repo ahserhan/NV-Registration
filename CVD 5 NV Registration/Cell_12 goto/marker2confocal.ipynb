{
 "cells": [
  {
   "cell_type": "code",
   "execution_count": 1,
   "metadata": {},
   "outputs": [],
   "source": [
    "import numpy as np\n",
    "import math\n",
    "import matplotlib.pyplot as plt\n",
    "from cProfile import label\n",
    "import pandas as pd\n"
   ]
  },
  {
   "attachments": {},
   "cell_type": "markdown",
   "metadata": {},
   "source": [
    "# Part Zero: code revisions:\n",
    "\n",
    "We are using the longer side as the y-axis and the shorter side as x. This doesn't affect the code but is inconsistent with the examples in the first part."
   ]
  },
  {
   "attachments": {},
   "cell_type": "markdown",
   "metadata": {},
   "source": [
    "# Part One: code restrictions."
   ]
  },
  {
   "attachments": {},
   "cell_type": "markdown",
   "metadata": {},
   "source": [
    "###\n",
    "1. this code is only used when the marker y-axis is in the first two quardrant\n",
    "2. this code needs you to identify any reflection by the microscope\n",
    "3. That means, you have to identify your microscope transformation (reflections) so that the y' axis is in the first two qudrant\n",
    "\n",
    "Below gives a prescripted x-y marker coordinate"
   ]
  },
  {
   "cell_type": "code",
   "execution_count": 2,
   "metadata": {},
   "outputs": [
    {
     "name": "stderr",
     "output_type": "stream",
     "text": [
      "No handles with labels found to put in legend.\n"
     ]
    },
    {
     "data": {
      "text/plain": [
       "<matplotlib.legend.Legend at 0x194a4498ee0>"
      ]
     },
     "execution_count": 2,
     "metadata": {},
     "output_type": "execute_result"
    },
    {
     "data": {
      "image/png": "[encoded data removed]",
      "text/plain": [
       "<Figure size 432x288 with 1 Axes>"
      ]
     },
     "metadata": {
      "needs_background": "light"
     },
     "output_type": "display_data"
    }
   ],
   "source": [
    "mxx = [0,1,2,3,4,5]\n",
    "mxy = np.zeros(6)\n",
    "myx = np.zeros(3)\n",
    "myy = [0,1,2]\n",
    "\n",
    "plt.axis('equal')\n",
    "plt.scatter(mxx, mxy)\n",
    "plt.scatter(myx, myy)\n",
    "plt.plot(mxx, mxy)\n",
    "plt.plot(myx, myy)\n",
    "plt.legend()"
   ]
  },
  {
   "cell_type": "code",
   "execution_count": 3,
   "metadata": {},
   "outputs": [
    {
     "name": "stderr",
     "output_type": "stream",
     "text": [
      "No handles with labels found to put in legend.\n"
     ]
    },
    {
     "data": {
      "text/plain": [
       "<matplotlib.legend.Legend at 0x194a4c32d60>"
      ]
     },
     "execution_count": 3,
     "metadata": {},
     "output_type": "execute_result"
    },
    {
     "data": {
      "image/png": "[encoded data removed]",
      "text/plain": [
       "<Figure size 432x288 with 1 Axes>"
      ]
     },
     "metadata": {
      "needs_background": "light"
     },
     "output_type": "display_data"
    }
   ],
   "source": [
    "mxx = np.array([0, 4])\n",
    "mxy = np.array([0, 2])\n",
    "myx = np.array([0, -1])\n",
    "myy = np.array([0, 2])  \n",
    "plt.axis('equal')\n",
    "plt.scatter(mxx, mxy)\n",
    "plt.scatter(myx, myy)\n",
    "plt.plot(mxx, mxy)\n",
    "plt.plot(myx, myy)\n",
    "plt.legend()"
   ]
  },
  {
   "cell_type": "code",
   "execution_count": 4,
   "metadata": {},
   "outputs": [
    {
     "name": "stderr",
     "output_type": "stream",
     "text": [
      "No handles with labels found to put in legend.\n"
     ]
    },
    {
     "data": {
      "text/plain": [
       "<matplotlib.legend.Legend at 0x194a4c900d0>"
      ]
     },
     "execution_count": 4,
     "metadata": {},
     "output_type": "execute_result"
    },
    {
     "data": {
      "image/png": "[encoded data removed]",
      "text/plain": [
       "<Figure size 432x288 with 1 Axes>"
      ]
     },
     "metadata": {
      "needs_background": "light"
     },
     "output_type": "display_data"
    }
   ],
   "source": [
    "mxx = np.array([0, 4])\n",
    "mxy = np.array([0, -2])\n",
    "myx = np.array([0, 1])\n",
    "myy = np.array([0, 2])  \n",
    "plt.axis('equal')\n",
    "plt.scatter(mxx, mxy)\n",
    "plt.scatter(myx, myy)\n",
    "plt.plot(mxx, mxy)\n",
    "plt.plot(myx, myy)\n",
    "plt.legend()"
   ]
  },
  {
   "attachments": {},
   "cell_type": "markdown",
   "metadata": {},
   "source": [
    "# Part Two: registration program"
   ]
  },
  {
   "cell_type": "code",
   "execution_count": 5,
   "metadata": {},
   "outputs": [],
   "source": [
    "axis = pd.read_csv('markCor.csv')\n",
    "\n",
    "hflip = 0\n",
    "vflip = 0\n",
    "\n",
    "hDotsX = axis['xx']\n",
    "hDotsY = axis['xy']\n",
    "vDotsX = axis['yx']\n",
    "vDotsY = axis['yy']\n",
    "\n",
    "# hDotsX = np.array([0, 2])\n",
    "# hDotsY = np.array([0, 1])\n",
    "# vDotsX = np.array([0, -1])\n",
    "# vDotsY = np.array([0, 2])  \n",
    "\n",
    "#activate if horizontal flip\n",
    "if hflip:\n",
    "    hDotsX = -1*hDotsX \n",
    "    vDotsX = -1*vDotsX \n",
    "\n",
    "#activate if vertical flip\n",
    "if vflip:\n",
    "    hDotsY = -1*hDotsY \n",
    "    vDotsY = -1*vDotsY \n",
    "\n",
    "    \n",
    "\n",
    "nv = pd.read_csv('nv4mark.csv')\n",
    "\n",
    "#nvx and nvy here are the marker coordinates\n",
    "nvx = nv['x']\n",
    "nvy = nv['y']\n",
    "nvz = nv['z']"
   ]
  },
  {
   "cell_type": "code",
   "execution_count": 6,
   "metadata": {},
   "outputs": [
    {
     "data": {
      "text/plain": [
       "<matplotlib.legend.Legend at 0x194a4d3f430>"
      ]
     },
     "execution_count": 6,
     "metadata": {},
     "output_type": "execute_result"
    },
    {
     "data": {
      "image/png": "[encoded data removed]",
      "text/plain": [
       "<Figure size 864x648 with 1 Axes>"
      ]
     },
     "metadata": {
      "needs_background": "light"
     },
     "output_type": "display_data"
    }
   ],
   "source": [
    "hk, hb = np.polyfit(hDotsX,hDotsY,1)\n",
    "vk, vb = np.polyfit(vDotsX,vDotsY,1)\n",
    "zeroX = (hb - vb) / (vk - hk)\n",
    "zeroY = hk * zeroX + hb\n",
    "\n",
    "\n",
    "#find the angle of rotation （y' axis from x axis, CCW）\n",
    "if vk > 0:\n",
    "    theta = math.atan(vk)\n",
    "if vk < 0: \n",
    "    theta = math.pi - math.atan(-vk)\n",
    "#find the new marker-coordinates of the NV center\n",
    "confx = math.sin(theta)* nvx + math.cos(theta) * nvy\n",
    "confy = - math.cos(theta)* nvx + math.sin(theta) * nvy\n",
    "\n",
    "#translate the nv coordinate system to the origin\n",
    "confx = confx + zeroX\n",
    "confy = confy + zeroY\n",
    "\n",
    "#activate if horizontal flip\n",
    "if hflip:\n",
    "    confx = -1*confx\n",
    "\n",
    "#activate if vertical flip\n",
    "if vflip:\n",
    "    confy = -1*confy\n",
    "    \n",
    "fig = plt.figure(figsize=(12,9))\n",
    "plt.grid()\n",
    "plt.axis('equal')\n",
    "plt.plot(hDotsX, hDotsX*hk+hb,label = 'x\\' axis')\n",
    "plt.scatter(hDotsX, hDotsY)\n",
    "plt.plot(vDotsX, vDotsX*vk+vb,label = 'y\\' axis')\n",
    "plt.scatter(vDotsX, vDotsY)\n",
    "plt.scatter(confx, confy, label='NV center')\n",
    "plt.legend()"
   ]
  },
  {
   "cell_type": "code",
   "execution_count": 7,
   "metadata": {},
   "outputs": [],
   "source": [
    "df = pd.DataFrame({'x': confx, 'y': confy, 'z': nvz})\n",
    "df.to_csv('target_nv_coordinates_for_this_confocal_scan.csv')"
   ]
  }
 ],
 "metadata": {
  "kernelspec": {
   "display_name": "Python 3.9.7 ('base')",
   "language": "python",
   "name": "python3"
  },
  "language_info": {
   "codemirror_mode": {
    "name": "ipython",
    "version": 3
   },
   "file_extension": ".py",
   "mimetype": "text/x-python",
   "name": "python",
   "nbconvert_exporter": "python",
   "pygments_lexer": "ipython3",
   "version": "3.9.7"
  },
  "orig_nbformat": 4,
  "vscode": {
   "interpreter": {
    "hash": "81d803375a80ef438aed46dfb61bfcb23632280389862399a519a5b5dac99448"
   }
  }
 },
 "nbformat": 4,
 "nbformat_minor": 2
}
